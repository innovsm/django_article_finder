{
 "cells": [
  {
   "cell_type": "code",
   "execution_count": 1,
   "metadata": {},
   "outputs": [],
   "source": [
    "# experiment sets\n",
    "from urllib.request import urlopen \n",
    "from bs4 import BeautifulSoup\n",
    "from  scholarly import scholarly as scholar\n",
    "import pandas as pd\n",
    "import numpy as np"
   ]
  },
  {
   "cell_type": "code",
   "execution_count": null,
   "metadata": {},
   "outputs": [],
   "source": []
  },
  {
   "cell_type": "code",
   "execution_count": 2,
   "metadata": {},
   "outputs": [],
   "source": [
    "def module(article_name):\n",
    "    title  = \"\"\n",
    "    doi = \"\"\n",
    "    download_link = []\n",
    "    author_names = []\n",
    "    \n",
    "\n",
    "    '''-------------------------------------------------------'''\n",
    "    # modifing the article name to fit the url\n",
    "    article_name = article_name.lower()  #%2C\n",
    "    article_name = article_name.replace(\",\", \"%2C\")\n",
    "    article_name = article_name.replace(\" \", \"+\")\n",
    "    article_name = article_name.replace(\":\", \"%3A\")  #' '\n",
    "    article_name = article_name.replace(' ', \"+\")\n",
    "    \n",
    "    #print(article_name)\n",
    "    # url of the wikipedia page\n",
    "    url =  \"http://libgen.rs/scimag/\"+\"?q=\"+article_name\n",
    "    html = urlopen(url)\n",
    "    data = BeautifulSoup(html, \"html.parser\")\n",
    "    # extracting the data\n",
    "    list_raw = []\n",
    "    for i in  data.find(class_ = \"catalog\").find_all(\"td\"):\n",
    "        for j in i.children:\n",
    "            #print(j)\n",
    "            list_raw.append(j)\n",
    "    # printing Doi\n",
    "    for i in list_raw:\n",
    "        if(\"DOI:\" in i.text):\n",
    "            doi += i.text\n",
    "            break   #caution\n",
    "\n",
    "    for i in list_raw:\n",
    "        if((i ==' ') or (i == '\\n') or(i == ' ')):\n",
    "            list_raw.remove(i)\n",
    "    index = list_raw.index(\"Mirrors\")\n",
    "    index += 2\n",
    "    title = list_raw[index]\n",
    "   # print(title.text)\n",
    "    title = title.text   # ------------------------------------------ here sis the titile of the article\n",
    "    '''-------------------------------------------------------'''\n",
    "  \n",
    "    index = list_raw.index(\"Mirrors\")\n",
    "    index+=1\n",
    "# getting the link\n",
    "    string_raw = list_raw[index]\n",
    "    string_raw.rstrip()  # clearning all the white spaces\n",
    "\n",
    "    new_list = list_raw[-1].children\n",
    "    for i in new_list:\n",
    "        for i1 in i.children:\n",
    "            download_link.append(i1.attrs[\"href\"]) # ----------------- here is the download link\n",
    "          #  print(i1.attrs[\"href\"])\n",
    "    list_1 = string_raw.split(\";\")\n",
    "    for i in list_1:\n",
    "        list_temp = i.split(\",\")\n",
    "        #print(list_temp)\n",
    "        counter = len(list_temp)\n",
    "        author_name = \"\"\n",
    "        while(counter >0):\n",
    "            author_name += list_temp[counter-1]\n",
    "            author_name += \" \"\n",
    "            counter -=1\n",
    "        author_names.append(author_name)   # -------------------------- here are author name's\n",
    "    '''-------------------------------------------------------'''\n",
    "   # print(author_names)\n",
    "    len_download_link = len(download_link)\n",
    "    len_author_names = len(author_names)\n",
    "\n",
    "\n",
    "    return [title, doi, download_link, author_names,len_author_names, len_download_link]"
   ]
  },
  {
   "cell_type": "code",
   "execution_count": 3,
   "metadata": {},
   "outputs": [
    {
     "data": {
      "text/plain": [
       "[' [IEEE 2014 IEEE International Advance Computing Conference (IACC) - Gurgaon, India (2014.02.21-2014.02.22)] 2014 IEEE International Advance Computing Conference (IACC) - Using identity and trust with key management for achieving security in Ad hoc Networks',\n",
       " 'DOI: 10.1109/IAdCC.2014.6779333',\n",
       " ['https://sci-hub.se/10.1109/ICCS45141.2019.9065684',\n",
       "  'http://library.lol/scimag/10.1109/ICCS45141.2019.9065684',\n",
       "  'https://libgen.lc/ads.php?doi=10.1109/ICCS45141.2019.9065684'],\n",
       " [' Pallavi Khatri '],\n",
       " 1,\n",
       " 3]"
      ]
     },
     "execution_count": 3,
     "metadata": {},
     "output_type": "execute_result"
    }
   ],
   "source": [
    "module(\"pallavi khatri\")"
   ]
  },
  {
   "cell_type": "code",
   "execution_count": 2,
   "metadata": {},
   "outputs": [],
   "source": [
    "# reading json files\n",
    "import pandas as pd"
   ]
  },
  {
   "cell_type": "code",
   "execution_count": 3,
   "metadata": {},
   "outputs": [],
   "source": [
    "data_json = pd.read_json(\"https://api.crossref.org/v1/works/10.32628/cseit1228139\")"
   ]
  },
  {
   "cell_type": "code",
   "execution_count": 15,
   "metadata": {},
   "outputs": [
    {
     "data": {
      "text/plain": [
       "Index(['DOI', 'ISSN', 'URL', 'abstract', 'archive', 'author',\n",
       "       'container-title', 'content-domain', 'created', 'deposited', 'indexed',\n",
       "       'is-referenced-by-count', 'issn-type', 'issued', 'language', 'link',\n",
       "       'member', 'original-title', 'page', 'prefix', 'published',\n",
       "       'published-online', 'published-print', 'publisher', 'reference',\n",
       "       'reference-count', 'references-count', 'relation', 'resource', 'score',\n",
       "       'short-container-title', 'short-title', 'source', 'subject', 'subtitle',\n",
       "       'title', 'type'],\n",
       "      dtype='object')"
      ]
     },
     "execution_count": 15,
     "metadata": {},
     "output_type": "execute_result"
    }
   ],
   "source": [
    "data_json.index"
   ]
  },
  {
   "cell_type": "code",
   "execution_count": 20,
   "metadata": {},
   "outputs": [
    {
     "name": "stdout",
     "output_type": "stream",
     "text": [
      "                                                                  message\n",
      "DOI                                                 10.32628/cseit1228139\n",
      "ISSN                                                          [2456-3307]\n",
      "URL                               http://dx.doi.org/10.32628/cseit1228139\n",
      "abstract                <jats:p>In the presenting paper we are dealing...\n",
      "archive                              [Internet Archive, Internet Archive]\n",
      "author                  [{'family': 'Soumya Chaturvedi', 'sequence': '...\n",
      "container-title         [International Journal of Scientific Research ...\n",
      "content-domain             {'domain': [], 'crossmark-restriction': False}\n",
      "created                 {'date-parts': [[2022, 4, 7]], 'date-time': '2...\n",
      "deposited               {'date-parts': [[2022, 4, 7]], 'date-time': '2...\n",
      "indexed                 {'date-parts': [[2022, 4, 7]], 'date-time': '2...\n",
      "is-referenced-by-count                                                  0\n",
      "issn-type                  [{'value': '2456-3307', 'type': 'electronic'}]\n",
      "issued                                     {'date-parts': [[2022, 2, 5]]}\n",
      "language                                                               en\n",
      "link                    [{'URL': 'https://ijsrcseit.com/CSEIT1228139',...\n",
      "member                                                              17802\n",
      "original-title                                                         []\n",
      "page                                                              222-228\n",
      "prefix                                                           10.32628\n",
      "published                                  {'date-parts': [[2022, 2, 5]]}\n",
      "published-online                           {'date-parts': [[2022, 2, 5]]}\n",
      "published-print                           {'date-parts': [[2022, 2, 18]]}\n",
      "publisher                                           Technoscience Academy\n",
      "reference               [{'key': 'ref0', 'unstructured': 'Survey: Vari...\n",
      "reference-count                                                        53\n",
      "references-count                                                       53\n",
      "relation                                                               {}\n",
      "resource                {'primary': {'URL': 'https://ijsrcseit.com/CSE...\n",
      "score                                                                   1\n",
      "short-container-title                                         [IJSRCSEIT]\n",
      "short-title                                                            []\n",
      "source                                                           Crossref\n",
      "subject                                                [General Medicine]\n",
      "subtitle                                                               []\n",
      "title                   [Comparison of Segmentation-Based Image Compre...\n",
      "type                                                      journal-article\n"
     ]
    }
   ],
   "source": [
    "print(data_json[['message']])"
   ]
  },
  {
   "cell_type": "code",
   "execution_count": 22,
   "metadata": {},
   "outputs": [],
   "source": [
    "# getting affiliation data about the publication \n",
    "example = \"https://api.crossref.org/v1/works/10.32628/cseit1228139\"\n"
   ]
  },
  {
   "cell_type": "code",
   "execution_count": 23,
   "metadata": {},
   "outputs": [],
   "source": [
    "html = urlopen(example)\n",
    "data = BeautifulSoup(html, \"html.parser\")"
   ]
  },
  {
   "cell_type": "code",
   "execution_count": 38,
   "metadata": {},
   "outputs": [
    {
     "data": {
      "text/plain": [
       "1948"
      ]
     },
     "execution_count": 38,
     "metadata": {},
     "output_type": "execute_result"
    }
   ],
   "source": [
    "str(data).find(\"affiliation\")"
   ]
  },
  {
   "cell_type": "code",
   "execution_count": 39,
   "metadata": {},
   "outputs": [
    {
     "data": {
      "text/plain": [
       "2238"
      ]
     },
     "execution_count": 39,
     "metadata": {},
     "output_type": "execute_result"
    }
   ],
   "source": [
    "str(data).find(\"member\")"
   ]
  },
  {
   "cell_type": "code",
   "execution_count": 40,
   "metadata": {},
   "outputs": [
    {
     "data": {
      "text/plain": [
       "'affiliation\":[{\"name\":\"M. Tech, Department of Computer Science, ITM University, Gwalior, Madhya Pradesh, India\"}]},{\"family\":\"Dr. Pallavi Khatri\",\"sequence\":\"additional\",\"affiliation\":[{\"name\":\"Professor, Department of Computer Science, ITM University, Gwalior, Madhya Pradesh, India\"}]}],\"'"
      ]
     },
     "execution_count": 40,
     "metadata": {},
     "output_type": "execute_result"
    }
   ],
   "source": [
    "str(data)[1948:2238]"
   ]
  }
 ],
 "metadata": {
  "kernelspec": {
   "display_name": "data_science",
   "language": "python",
   "name": "python3"
  },
  "language_info": {
   "codemirror_mode": {
    "name": "ipython",
    "version": 3
   },
   "file_extension": ".py",
   "mimetype": "text/x-python",
   "name": "python",
   "nbconvert_exporter": "python",
   "pygments_lexer": "ipython3",
   "version": "3.10.4"
  },
  "orig_nbformat": 4,
  "vscode": {
   "interpreter": {
    "hash": "c4f9039c69a8a5da270c9305f45b9eab96e8ea54ee99a0723cd20892094092b8"
   }
  }
 },
 "nbformat": 4,
 "nbformat_minor": 2
}
